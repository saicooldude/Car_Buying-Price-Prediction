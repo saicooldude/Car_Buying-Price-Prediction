{
 "cells": [
  {
   "cell_type": "code",
   "execution_count": 1,
   "metadata": {},
   "outputs": [],
   "source": [
    "import pathlib\n",
    "\n",
    "import matplotlib.pyplot as plt\n",
    "import numpy as np\n",
    "import pandas as pd\n",
    "import seaborn as sns\n",
    "\n",
    "from sklearn.model_selection import train_test_split\n",
    "from sklearn.preprocessing import StandardScaler"
   ]
  },
  {
   "cell_type": "code",
   "execution_count": 2,
   "metadata": {},
   "outputs": [
    {
     "name": "stdout",
     "output_type": "stream",
     "text": [
      "2.3.0\n"
     ]
    }
   ],
   "source": [
    "import tensorflow as tf\n",
    "\n",
    "from tensorflow import keras\n",
    "from tensorflow.keras import layers\n",
    "\n",
    "# !pip install -q git+https://github.com/tensorflow/docs\n",
    "import tensorflow_docs as tfdocs\n",
    "import tensorflow_docs.plots\n",
    "import tensorflow_docs.modeling\n",
    "\n",
    "print(tf.__version__)"
   ]
  },
  {
   "cell_type": "code",
   "execution_count": 3,
   "metadata": {},
   "outputs": [
    {
     "data": {
      "text/html": [
       "<div>\n",
       "<style scoped>\n",
       "    .dataframe tbody tr th:only-of-type {\n",
       "        vertical-align: middle;\n",
       "    }\n",
       "\n",
       "    .dataframe tbody tr th {\n",
       "        vertical-align: top;\n",
       "    }\n",
       "\n",
       "    .dataframe thead th {\n",
       "        text-align: right;\n",
       "    }\n",
       "</style>\n",
       "<table border=\"1\" class=\"dataframe\">\n",
       "  <thead>\n",
       "    <tr style=\"text-align: right;\">\n",
       "      <th></th>\n",
       "      <th>on road old</th>\n",
       "      <th>on road now</th>\n",
       "      <th>years</th>\n",
       "      <th>km</th>\n",
       "      <th>rating</th>\n",
       "      <th>condition</th>\n",
       "      <th>economy</th>\n",
       "      <th>top speed</th>\n",
       "      <th>hp</th>\n",
       "      <th>torque</th>\n",
       "      <th>buying price</th>\n",
       "      <th>profit</th>\n",
       "    </tr>\n",
       "  </thead>\n",
       "  <tbody>\n",
       "    <tr>\n",
       "      <th>0</th>\n",
       "      <td>781997</td>\n",
       "      <td>881997</td>\n",
       "      <td>10</td>\n",
       "      <td>72310</td>\n",
       "      <td>2</td>\n",
       "      <td>2</td>\n",
       "      <td>16</td>\n",
       "      <td>186</td>\n",
       "      <td>58</td>\n",
       "      <td>194</td>\n",
       "      <td>461803</td>\n",
       "      <td>6</td>\n",
       "    </tr>\n",
       "    <tr>\n",
       "      <th>1</th>\n",
       "      <td>553464</td>\n",
       "      <td>643464</td>\n",
       "      <td>9</td>\n",
       "      <td>72189</td>\n",
       "      <td>5</td>\n",
       "      <td>6</td>\n",
       "      <td>6</td>\n",
       "      <td>173</td>\n",
       "      <td>81</td>\n",
       "      <td>189</td>\n",
       "      <td>273747</td>\n",
       "      <td>14</td>\n",
       "    </tr>\n",
       "    <tr>\n",
       "      <th>2</th>\n",
       "      <td>1175130</td>\n",
       "      <td>1275130</td>\n",
       "      <td>10</td>\n",
       "      <td>74100</td>\n",
       "      <td>5</td>\n",
       "      <td>4</td>\n",
       "      <td>14</td>\n",
       "      <td>184</td>\n",
       "      <td>104</td>\n",
       "      <td>95</td>\n",
       "      <td>852711</td>\n",
       "      <td>11</td>\n",
       "    </tr>\n",
       "    <tr>\n",
       "      <th>3</th>\n",
       "      <td>884824</td>\n",
       "      <td>924824</td>\n",
       "      <td>4</td>\n",
       "      <td>34340</td>\n",
       "      <td>1</td>\n",
       "      <td>7</td>\n",
       "      <td>20</td>\n",
       "      <td>183</td>\n",
       "      <td>125</td>\n",
       "      <td>122</td>\n",
       "      <td>701224</td>\n",
       "      <td>11</td>\n",
       "    </tr>\n",
       "    <tr>\n",
       "      <th>4</th>\n",
       "      <td>412866</td>\n",
       "      <td>462866</td>\n",
       "      <td>5</td>\n",
       "      <td>48050</td>\n",
       "      <td>1</td>\n",
       "      <td>1</td>\n",
       "      <td>10</td>\n",
       "      <td>189</td>\n",
       "      <td>89</td>\n",
       "      <td>114</td>\n",
       "      <td>213995</td>\n",
       "      <td>3</td>\n",
       "    </tr>\n",
       "  </tbody>\n",
       "</table>\n",
       "</div>"
      ],
      "text/plain": [
       "   on road old  on road now  years    km   rating  condition  economy  \\\n",
       "0       781997       881997     10  72310       2          2       16   \n",
       "1       553464       643464      9  72189       5          6        6   \n",
       "2      1175130      1275130     10  74100       5          4       14   \n",
       "3       884824       924824      4  34340       1          7       20   \n",
       "4       412866       462866      5  48050       1          1       10   \n",
       "\n",
       "   top speed   hp  torque  buying price  profit   \n",
       "0        186   58     194        461803        6  \n",
       "1        173   81     189        273747       14  \n",
       "2        184  104      95        852711       11  \n",
       "3        183  125     122        701224       11  \n",
       "4        189   89     114        213995        3  "
      ]
     },
     "execution_count": 3,
     "metadata": {},
     "output_type": "execute_result"
    }
   ],
   "source": [
    "dataset=pd.read_csv(r'C:\\Users\\KOTHA SAI\\Downloads\\cars.csv')\n",
    "dataset = dataset.drop(\"v.id\", 1)\n",
    "dataset = dataset.iloc[:, :-1]\n",
    "dataset.head()"
   ]
  },
  {
   "cell_type": "code",
   "execution_count": 5,
   "metadata": {},
   "outputs": [],
   "source": [
    "X = dataset.iloc[:, :-1].values\n",
    "Y = dataset.iloc[:, -1].values\n",
    "\n",
    "mean_Y = np.mean(Y)\n",
    "std_Y = np.std(Y)\n",
    "\n",
    "sc = StandardScaler()\n",
    "X = sc.fit_transform(X)\n",
    "Y = (Y - np.mean(Y))/np.std(Y)\n",
    "\n",
    "train_X, test_X, train_Y, test_Y = train_test_split(X, Y, test_size = 0.3, random_state=10)"
   ]
  },
  {
   "cell_type": "code",
   "execution_count": 6,
   "metadata": {},
   "outputs": [],
   "source": [
    "def build_model(X):\n",
    "    model = keras.Sequential([\n",
    "    layers.Dense(64, activation='relu', input_shape=X.shape),\n",
    "    layers.Dense(64, activation='relu'),\n",
    "    layers.Dense(1)\n",
    "    ])\n",
    "\n",
    "    optimizer = tf.keras.optimizers.RMSprop(0.001)\n",
    "\n",
    "    model.compile(loss='mse',\n",
    "                optimizer=optimizer,\n",
    "                metrics=['mae', 'mse'])\n",
    "    return model"
   ]
  },
  {
   "cell_type": "code",
   "execution_count": 7,
   "metadata": {},
   "outputs": [],
   "source": [
    "model = build_model(train_X)"
   ]
  },
  {
   "cell_type": "code",
   "execution_count": 8,
   "metadata": {},
   "outputs": [
    {
     "name": "stdout",
     "output_type": "stream",
     "text": [
      "Model: \"sequential\"\n",
      "_________________________________________________________________\n",
      "Layer (type)                 Output Shape              Param #   \n",
      "=================================================================\n",
      "dense (Dense)                (None, 1400, 64)          704       \n",
      "_________________________________________________________________\n",
      "dense_1 (Dense)              (None, 1400, 64)          4160      \n",
      "_________________________________________________________________\n",
      "dense_2 (Dense)              (None, 1400, 1)           65        \n",
      "=================================================================\n",
      "Total params: 4,929\n",
      "Trainable params: 4,929\n",
      "Non-trainable params: 0\n",
      "_________________________________________________________________\n"
     ]
    }
   ],
   "source": [
    "model.summary()"
   ]
  },
  {
   "cell_type": "code",
   "execution_count": 9,
   "metadata": {},
   "outputs": [
    {
     "name": "stdout",
     "output_type": "stream",
     "text": [
      "WARNING:tensorflow:Model was constructed with shape (None, 1400, 10) for input Tensor(\"dense_input:0\", shape=(None, 1400, 10), dtype=float32), but it was called on an input with incompatible shape (32, 10).\n",
      "WARNING:tensorflow:Model was constructed with shape (None, 1400, 10) for input Tensor(\"dense_input:0\", shape=(None, 1400, 10), dtype=float32), but it was called on an input with incompatible shape (32, 10).\n",
      "WARNING:tensorflow:Model was constructed with shape (None, 1400, 10) for input Tensor(\"dense_input:0\", shape=(None, 1400, 10), dtype=float32), but it was called on an input with incompatible shape (None, 10).\n",
      "\n",
      "Epoch: 0, loss:0.1187,  mae:0.2360,  mse:0.1187,  val_loss:0.0171,  val_mae:0.1037,  val_mse:0.0171,  \n",
      "....................................................................................................\n",
      "Epoch: 100, loss:0.0010,  mae:0.0235,  mse:0.0010,  val_loss:0.0018,  val_mae:0.0347,  val_mse:0.0018,  \n",
      "....................................................................................................\n",
      "Epoch: 200, loss:0.0005,  mae:0.0175,  mse:0.0005,  val_loss:0.0013,  val_mae:0.0281,  val_mse:0.0013,  \n",
      "....................................................................................................\n",
      "Epoch: 300, loss:0.0004,  mae:0.0147,  mse:0.0004,  val_loss:0.0015,  val_mae:0.0285,  val_mse:0.0015,  \n",
      "....................................................................................................\n",
      "Epoch: 400, loss:0.0004,  mae:0.0147,  mse:0.0004,  val_loss:0.0008,  val_mae:0.0210,  val_mse:0.0008,  \n",
      "...................................................................................................."
     ]
    }
   ],
   "source": [
    "EPOCHS = 500\n",
    "\n",
    "history = model.fit(\n",
    "  train_X, train_Y,\n",
    "  epochs=EPOCHS, validation_split = 0.2, verbose=0,\n",
    "  callbacks=[tfdocs.modeling.EpochDots()])"
   ]
  },
  {
   "cell_type": "code",
   "execution_count": 10,
   "metadata": {},
   "outputs": [
    {
     "data": {
      "text/html": [
       "<div>\n",
       "<style scoped>\n",
       "    .dataframe tbody tr th:only-of-type {\n",
       "        vertical-align: middle;\n",
       "    }\n",
       "\n",
       "    .dataframe tbody tr th {\n",
       "        vertical-align: top;\n",
       "    }\n",
       "\n",
       "    .dataframe thead th {\n",
       "        text-align: right;\n",
       "    }\n",
       "</style>\n",
       "<table border=\"1\" class=\"dataframe\">\n",
       "  <thead>\n",
       "    <tr style=\"text-align: right;\">\n",
       "      <th></th>\n",
       "      <th>loss</th>\n",
       "      <th>mae</th>\n",
       "      <th>mse</th>\n",
       "      <th>val_loss</th>\n",
       "      <th>val_mae</th>\n",
       "      <th>val_mse</th>\n",
       "      <th>epoch</th>\n",
       "    </tr>\n",
       "  </thead>\n",
       "  <tbody>\n",
       "    <tr>\n",
       "      <th>495</th>\n",
       "      <td>0.000252</td>\n",
       "      <td>0.011219</td>\n",
       "      <td>0.000252</td>\n",
       "      <td>0.000812</td>\n",
       "      <td>0.021167</td>\n",
       "      <td>0.000812</td>\n",
       "      <td>495</td>\n",
       "    </tr>\n",
       "    <tr>\n",
       "      <th>496</th>\n",
       "      <td>0.000301</td>\n",
       "      <td>0.013269</td>\n",
       "      <td>0.000301</td>\n",
       "      <td>0.000654</td>\n",
       "      <td>0.017582</td>\n",
       "      <td>0.000654</td>\n",
       "      <td>496</td>\n",
       "    </tr>\n",
       "    <tr>\n",
       "      <th>497</th>\n",
       "      <td>0.000317</td>\n",
       "      <td>0.013135</td>\n",
       "      <td>0.000317</td>\n",
       "      <td>0.000690</td>\n",
       "      <td>0.021086</td>\n",
       "      <td>0.000690</td>\n",
       "      <td>497</td>\n",
       "    </tr>\n",
       "    <tr>\n",
       "      <th>498</th>\n",
       "      <td>0.000213</td>\n",
       "      <td>0.010862</td>\n",
       "      <td>0.000213</td>\n",
       "      <td>0.000648</td>\n",
       "      <td>0.017328</td>\n",
       "      <td>0.000648</td>\n",
       "      <td>498</td>\n",
       "    </tr>\n",
       "    <tr>\n",
       "      <th>499</th>\n",
       "      <td>0.000284</td>\n",
       "      <td>0.012177</td>\n",
       "      <td>0.000284</td>\n",
       "      <td>0.002215</td>\n",
       "      <td>0.037562</td>\n",
       "      <td>0.002215</td>\n",
       "      <td>499</td>\n",
       "    </tr>\n",
       "  </tbody>\n",
       "</table>\n",
       "</div>"
      ],
      "text/plain": [
       "         loss       mae       mse  val_loss   val_mae   val_mse  epoch\n",
       "495  0.000252  0.011219  0.000252  0.000812  0.021167  0.000812    495\n",
       "496  0.000301  0.013269  0.000301  0.000654  0.017582  0.000654    496\n",
       "497  0.000317  0.013135  0.000317  0.000690  0.021086  0.000690    497\n",
       "498  0.000213  0.010862  0.000213  0.000648  0.017328  0.000648    498\n",
       "499  0.000284  0.012177  0.000284  0.002215  0.037562  0.002215    499"
      ]
     },
     "execution_count": 10,
     "metadata": {},
     "output_type": "execute_result"
    }
   ],
   "source": [
    "hist = pd.DataFrame(history.history)\n",
    "hist['epoch'] = history.epoch\n",
    "hist.tail()"
   ]
  },
  {
   "cell_type": "code",
   "execution_count": 11,
   "metadata": {},
   "outputs": [],
   "source": [
    "plotter = tfdocs.plots.HistoryPlotter(smoothing_std=2)"
   ]
  },
  {
   "cell_type": "code",
   "execution_count": 12,
   "metadata": {},
   "outputs": [
    {
     "data": {
      "text/plain": [
       "Text(0, 0.5, 'MAE [BUYING PRICE]')"
      ]
     },
     "execution_count": 12,
     "metadata": {},
     "output_type": "execute_result"
    },
    {
     "data": {
      "image/png": "[encoded data removed]",
      "text/plain": [
       "<Figure size 432x288 with 1 Axes>"
      ]
     },
     "metadata": {
      "needs_background": "light"
     },
     "output_type": "display_data"
    }
   ],
   "source": [
    "plotter.plot({'Basic': history}, metric = \"mae\")\n",
    "plt.ylim([0, 0.2])\n",
    "plt.ylabel('MAE [BUYING PRICE]')"
   ]
  },
  {
   "cell_type": "code",
   "execution_count": 13,
   "metadata": {},
   "outputs": [
    {
     "data": {
      "text/plain": [
       "Text(0, 0.5, 'MSE [BUYING PRICE^2]')"
      ]
     },
     "execution_count": 13,
     "metadata": {},
     "output_type": "execute_result"
    },
    {
     "data": {
      "image/png": "[encoded data removed]",
      "text/plain": [
       "<Figure size 432x288 with 1 Axes>"
      ]
     },
     "metadata": {
      "needs_background": "light"
     },
     "output_type": "display_data"
    }
   ],
   "source": [
    "plotter.plot({'Basic': history}, metric = \"mse\")\n",
    "plt.ylim([0, 0.08])\n",
    "plt.ylabel('MSE [BUYING PRICE^2]')"
   ]
  },
  {
   "cell_type": "code",
   "execution_count": 14,
   "metadata": {},
   "outputs": [
    {
     "name": "stdout",
     "output_type": "stream",
     "text": [
      "WARNING:tensorflow:Model was constructed with shape (None, 1400, 10) for input Tensor(\"dense_3_input:0\", shape=(None, 1400, 10), dtype=float32), but it was called on an input with incompatible shape (32, 10).\n",
      "WARNING:tensorflow:Model was constructed with shape (None, 1400, 10) for input Tensor(\"dense_3_input:0\", shape=(None, 1400, 10), dtype=float32), but it was called on an input with incompatible shape (32, 10).\n",
      "WARNING:tensorflow:Model was constructed with shape (None, 1400, 10) for input Tensor(\"dense_3_input:0\", shape=(None, 1400, 10), dtype=float32), but it was called on an input with incompatible shape (None, 10).\n",
      "\n",
      "Epoch: 0, loss:0.2577,  mae:0.3585,  mse:0.2577,  val_loss:0.0282,  val_mae:0.1366,  val_mse:0.0282,  \n",
      "............................................"
     ]
    }
   ],
   "source": [
    "model = build_model(train_X)\n",
    "\n",
    "early_stop = keras.callbacks.EarlyStopping(monitor='val_loss', patience=10)\n",
    "\n",
    "early_history = model.fit(train_X, train_Y, \n",
    "                    epochs=1000, validation_split = 0.2, verbose=0, \n",
    "                    callbacks=[early_stop, tfdocs.modeling.EpochDots()])"
   ]
  },
  {
   "cell_type": "code",
   "execution_count": 15,
   "metadata": {},
   "outputs": [
    {
     "data": {
      "text/plain": [
       "Text(0, 0.5, 'MAE [BUYING PRICE]')"
      ]
     },
     "execution_count": 15,
     "metadata": {},
     "output_type": "execute_result"
    },
    {
     "data": {
      "image/png": "[encoded data removed]",
      "text/plain": [
       "<Figure size 432x288 with 1 Axes>"
      ]
     },
     "metadata": {
      "needs_background": "light"
     },
     "output_type": "display_data"
    }
   ],
   "source": [
    "plotter.plot({'Early Stopping': early_history}, metric = \"mae\")\n",
    "plt.ylim([0, 0.150])\n",
    "plt.ylabel('MAE [BUYING PRICE]')"
   ]
  },
  {
   "cell_type": "code",
   "execution_count": 16,
   "metadata": {},
   "outputs": [
    {
     "name": "stdout",
     "output_type": "stream",
     "text": [
      "19/19 - 0s - loss: 0.0030 - mae: 0.0435 - mse: 0.0030\n",
      "Testing set Mean Abs Error:  0.04 BUYING PRICE\n"
     ]
    }
   ],
   "source": [
    "loss, mae, mse = model.evaluate(test_X, test_Y, verbose=2)\n",
    "\n",
    "print(\"Testing set Mean Abs Error: {:5.2f} BUYING PRICE\".format(mae))"
   ]
  },
  {
   "cell_type": "code",
   "execution_count": 17,
   "metadata": {},
   "outputs": [
    {
     "name": "stdout",
     "output_type": "stream",
     "text": [
      "WARNING:tensorflow:Model was constructed with shape (None, 1400, 10) for input Tensor(\"dense_3_input:0\", shape=(None, 1400, 10), dtype=float32), but it was called on an input with incompatible shape (None, 10).\n"
     ]
    },
    {
     "data": {
      "image/png": "[encoded data removed]",
      "text/plain": [
       "<Figure size 432x288 with 1 Axes>"
      ]
     },
     "metadata": {
      "needs_background": "light"
     },
     "output_type": "display_data"
    }
   ],
   "source": [
    "test_predictions = model.predict(test_X).flatten()\n",
    "\n",
    "a = plt.axes(aspect='equal')\n",
    "plt.scatter(test_Y, test_predictions)\n",
    "plt.xlabel('True Values [BUYING PRICE]')\n",
    "plt.ylabel('Predictions [BUYING PRICE]')\n",
    "lims = [0, 2]\n",
    "plt.xlim(lims)\n",
    "plt.ylim(lims)\n",
    "_ = plt.plot(lims, lims)"
   ]
  },
  {
   "cell_type": "code",
   "execution_count": 18,
   "metadata": {},
   "outputs": [
    {
     "data": {
      "text/html": [
       "<div>\n",
       "<style scoped>\n",
       "    .dataframe tbody tr th:only-of-type {\n",
       "        vertical-align: middle;\n",
       "    }\n",
       "\n",
       "    .dataframe tbody tr th {\n",
       "        vertical-align: top;\n",
       "    }\n",
       "\n",
       "    .dataframe thead th {\n",
       "        text-align: right;\n",
       "    }\n",
       "</style>\n",
       "<table border=\"1\" class=\"dataframe\">\n",
       "  <thead>\n",
       "    <tr style=\"text-align: right;\">\n",
       "      <th></th>\n",
       "      <th>on road old</th>\n",
       "      <th>on road now</th>\n",
       "      <th>years</th>\n",
       "      <th>km</th>\n",
       "      <th>rating</th>\n",
       "      <th>condition</th>\n",
       "      <th>economy</th>\n",
       "      <th>top speed</th>\n",
       "      <th>hp</th>\n",
       "      <th>torque</th>\n",
       "    </tr>\n",
       "  </thead>\n",
       "  <tbody>\n",
       "    <tr>\n",
       "      <th>0</th>\n",
       "      <td>884463</td>\n",
       "      <td>934463</td>\n",
       "      <td>5</td>\n",
       "      <td>37235</td>\n",
       "      <td>1</td>\n",
       "      <td>10</td>\n",
       "      <td>6</td>\n",
       "      <td>152</td>\n",
       "      <td>115</td>\n",
       "      <td>156</td>\n",
       "    </tr>\n",
       "    <tr>\n",
       "      <th>1</th>\n",
       "      <td>358375</td>\n",
       "      <td>448375</td>\n",
       "      <td>9</td>\n",
       "      <td>71532</td>\n",
       "      <td>5</td>\n",
       "      <td>3</td>\n",
       "      <td>8</td>\n",
       "      <td>171</td>\n",
       "      <td>70</td>\n",
       "      <td>95</td>\n",
       "    </tr>\n",
       "    <tr>\n",
       "      <th>2</th>\n",
       "      <td>925561</td>\n",
       "      <td>955561</td>\n",
       "      <td>3</td>\n",
       "      <td>21276</td>\n",
       "      <td>2</td>\n",
       "      <td>10</td>\n",
       "      <td>11</td>\n",
       "      <td>188</td>\n",
       "      <td>67</td>\n",
       "      <td>118</td>\n",
       "    </tr>\n",
       "    <tr>\n",
       "      <th>3</th>\n",
       "      <td>1190067</td>\n",
       "      <td>1210067</td>\n",
       "      <td>2</td>\n",
       "      <td>17766</td>\n",
       "      <td>3</td>\n",
       "      <td>2</td>\n",
       "      <td>14</td>\n",
       "      <td>174</td>\n",
       "      <td>97</td>\n",
       "      <td>155</td>\n",
       "    </tr>\n",
       "    <tr>\n",
       "      <th>4</th>\n",
       "      <td>419517</td>\n",
       "      <td>479517</td>\n",
       "      <td>6</td>\n",
       "      <td>49626</td>\n",
       "      <td>5</td>\n",
       "      <td>2</td>\n",
       "      <td>14</td>\n",
       "      <td>192</td>\n",
       "      <td>91</td>\n",
       "      <td>184</td>\n",
       "    </tr>\n",
       "  </tbody>\n",
       "</table>\n",
       "</div>"
      ],
      "text/plain": [
       "   on road old  on road now  years    km   rating  condition  economy  \\\n",
       "0       884463       934463      5  37235       1         10        6   \n",
       "1       358375       448375      9  71532       5          3        8   \n",
       "2       925561       955561      3  21276       2         10       11   \n",
       "3      1190067      1210067      2  17766       3          2       14   \n",
       "4       419517       479517      6  49626       5          2       14   \n",
       "\n",
       "   top speed   hp  torque  \n",
       "0        152  115     156  \n",
       "1        171   70      95  \n",
       "2        188   67     118  \n",
       "3        174   97     155  \n",
       "4        192   91     184  "
      ]
     },
     "execution_count": 18,
     "metadata": {},
     "output_type": "execute_result"
    }
   ],
   "source": [
    "test_dataset = pd.read_csv(r\"C:\\Users\\KOTHA SAI\\Downloads\\test.csv\")\n",
    "test_dataset = test_dataset.drop('v.id', 1)\n",
    "test_dataset.head()"
   ]
  },
  {
   "cell_type": "code",
   "execution_count": 19,
   "metadata": {},
   "outputs": [],
   "source": [
    "test = test_dataset.iloc[:, :].values\n",
    "test = sc.transform(test)"
   ]
  },
  {
   "cell_type": "code",
   "execution_count": 22,
   "metadata": {},
   "outputs": [
    {
     "data": {
      "text/plain": [
       "array([ 704547.   ,   94930.59 ,  763689.25 , 1025581.75 ,  226116.1  ,\n",
       "        269066.38 ,  680856.8  ,  844500.5  ,  582160.6  ,  425319.84 ,\n",
       "        149292.53 ,  867734.   ,  792617.6  ,  770651.2  ,  873979.6  ,\n",
       "        905554.2  ,  679227.1  ,  152443.4  ,  688727.6  ,  123582.78 ,\n",
       "        323220.75 ,  604359.9  ,  391770.44 ,  812720.94 ,  156964.31 ,\n",
       "        286907.28 ,  767607.5  ,  843879.1  ,  133411.97 ,  110790.   ,\n",
       "        323944.94 ,  440471.38 ,  166645.   ,  526190.75 ,  854559.75 ,\n",
       "        623815.9  ,  295461.7  ,  316921.44 ,  477845.25 ,  338029.3  ,\n",
       "        718920.   ,  446149.22 ,  537839.1  ,  291807.2  ,  694365.6  ,\n",
       "        841537.4  ,  861098.8  ,  369752.1  ,  469849.06 ,  413362.25 ,\n",
       "        246109.47 ,  948652.9  ,  182841.94 ,  242421.25 ,  135847.9  ,\n",
       "        334591.38 ,  145418.56 ,  397490.9  ,  618838.3  ,   95412.44 ,\n",
       "        426229.12 ,  620971.4  ,  431034.97 ,  882793.25 ,  498279.72 ,\n",
       "        222174.19 ,  887145.56 ,  621046.75 ,  564346.44 ,  144081.94 ,\n",
       "        348642.06 ,  626504.6  ,  844844.9  ,  526250.8  ,  335696.62 ,\n",
       "        708764.44 ,  393188.34 ,  842113.   ,  589933.9  ,   85026.875,\n",
       "        786450.3  ,  677385.   ,  732684.06 ,  752896.9  ,  801626.5  ,\n",
       "        948021.8  ,  694525.4  ,  314655.75 ,  347210.1  ,  170854.72 ,\n",
       "        201241.38 ,  945025.06 ,  994826.9  ,  380781.06 ,  395866.56 ,\n",
       "        677266.1  ,  896016.5  ,  916903.2  ,  937024.7  ,  374399.12 ,\n",
       "        746464.5  ,  284403.56 ,  119625.81 ,  111119.31 ,  186026.69 ,\n",
       "         79905.03 ,  326838.62 ,  716898.25 ,  697807.5  ,  910715.94 ,\n",
       "        852092.25 ,  318887.66 ,  789766.1  ,  718984.94 ,  761748.7  ,\n",
       "        328448.06 ,  245240.1  ,  572825.9  ,  105865.125,  279353.75 ,\n",
       "        297699.2  ,  695015.94 ,  411240.84 ,  982429.9  ,  370757.06 ,\n",
       "        301328.62 ,  726884.56 ,  926644.6  ,  351385.75 ,  233467.12 ,\n",
       "        399534.3  ,  965011.1  ,  527613.06 ,  368677.25 ,  622571.7  ,\n",
       "        499693.75 ,  662431.25 , 1005753.75 ,  425169.94 ,  907106.1  ,\n",
       "        698883.25 ,  141805.78 ,  773133.44 ,  913687.1  ,  808459.   ,\n",
       "        549818.6  ,  206997.53 ,  336833.   ,  535955.44 ,  546481.6  ,\n",
       "        704153.56 ,  891585.5  ,  766186.5  ,  224056.88 ,  157849.19 ,\n",
       "        410191.47 ,  815968.56 ,   96332.125,  765543.94 ,  715201.06 ,\n",
       "        529318.94 ,  958700.9  ,  606351.6  ,  871695.1  ,  483171.62 ,\n",
       "        229715.81 ,  784264.   ,  299259.97 ,  654451.6  ,  339191.5  ,\n",
       "        639875.4  ,  232330.75 ,  620034.94 ,  873995.5  ,  695526.9  ,\n",
       "        199189.84 ,  173790.25 ,  600768.4  , 1008592.5  ,  226649.22 ,\n",
       "        504094.9  ,  914975.25 ,  947641.06 , 1041061.8  ,  988250.9  ,\n",
       "        688831.6  ,  378320.44 ,  846803.5  ,  726839.75 ,  808457.9  ,\n",
       "        163550.84 ,  989463.6  ,  701564.5  ,  622027.6  ,  704917.8  ,\n",
       "        209015.06 ,  431149.25 ,  776881.   ,  137735.28 ,  -17303.812,\n",
       "        621618.06 ,  430037.12 ,  441065.56 ,  318272.7  ,  461072.97 ,\n",
       "        407101.75 ,  611580.5  ,  391222.12 ,  737517.5  ,  218459.44 ,\n",
       "        870226.   ,  343242.2  ,  954128.75 ,  913564.56 ,  177395.28 ,\n",
       "        786115.4  ,  773287.94 ,  143308.53 ,   65351.875,  584902.1  ,\n",
       "        632741.94 ,  486201.4  ,  127671.59 ,  991437.9  ,  453740.56 ,\n",
       "        528040.44 ,  361220.12 ,  266172.66 ,  504506.4  ,  679640.   ,\n",
       "        289154.   ,  110395.22 , 1004860.2  ,  528025.94 ,  215946.62 ,\n",
       "        605900.8  ,  789143.1  ,  661422.7  ,  511041.66 ,  342244.38 ,\n",
       "        128368.75 , 1006901.75 ,   50999.844,  333027.38 ,  551116.8  ,\n",
       "        763955.06 ,  573850.94 ,  310006.   ,   12914.094,  323659.2  ,\n",
       "        156734.66 ,  282310.   ,  876180.75 ,  465126.8  ,  289282.2  ,\n",
       "        227628.72 ,  233234.47 ,  986410.4  ,  373763.28 ,  298968.84 ,\n",
       "        352331.12 ,  400146.   ,  196837.06 ,  439191.5  ,  771371.   ,\n",
       "        411724.84 ,  677467.4  , 1039028.75 ,  788363.5  ,  380111.38 ,\n",
       "        219311.06 ,  309262.8  ,  815903.75 ,  482939.25 ,  616568.75 ,\n",
       "        469716.   ,  474798.5  ,  704852.3  , 1006002.94 ,  901337.6  ,\n",
       "        308542.3  ,  554142.44 ,  611597.7  ,  763512.25 ,  512605.8  ,\n",
       "        442678.4  ,  647487.9  ,  889914.7  ,  140725.28 ,  285806.66 ,\n",
       "        668137.75 ,  984178.7  ,  829240.94 ,  277765.2  ,  655802.8  ,\n",
       "        207154.97 ,  465448.3  ,  932980.   ,  160312.97 ,  611479.94 ,\n",
       "        652231.   ,   81585.72 ,  759374.   ,  897583.9  ,  124147.28 ,\n",
       "        774676.1  ,  539284.94 ,  941414.4  ,  669091.94 ,  384502.8  ,\n",
       "        459577.06 ,  823027.6  ,  230304.47 ,   56564.188,  592248.6  ,\n",
       "        833999.1  ,  375281.28 ,  274859.5  ,  111550.97 ,   55487.188,\n",
       "        494106.8  ,  384385.3  ,  261981.31 ,  356563.8  ,  227334.94 ,\n",
       "        523046.94 ,  213223.97 ,  741276.7  ,  962361.3  ,  675361.   ,\n",
       "        755035.56 ,  399595.94 ,  368216.88 ,  142566.66 ,  860693.5  ,\n",
       "        545258.94 ,  181565.28 ,   36404.53 ,  824820.75 ,  313033.62 ,\n",
       "        526438.25 ,  176064.94 ,  290890.88 ,  599503.9  ,  732802.56 ,\n",
       "        685474.9  ,  113320.75 ,  286757.97 ,  799121.   ,  273963.44 ,\n",
       "        541248.94 ,  428155.66 ,  670264.75 ,  483337.8  ,  270316.75 ,\n",
       "        256002.75 ,  108010.75 ,  168822.69 ,  795818.4  ,  311970.5  ,\n",
       "        209564.12 , 1013951.75 ,  955012.8  ,  155697.53 ,  904085.56 ,\n",
       "        343278.1  ,  633947.9  ,  748620.5  ,  566567.1  ,  809813.5  ,\n",
       "        554960.94 ,  656309.6  ,  202830.9  ,  677113.6  ,  617214.7  ,\n",
       "        689567.25 ,  523040.88 ,  872830.75 ,  147831.4  ,  821225.94 ,\n",
       "        493180.25 ,  566485.06 ,  454690.3  ,  742828.7  ,  402335.16 ,\n",
       "        632885.6  ,  417459.06 ,  716513.56 ,  597889.2  ,  862046.7  ,\n",
       "        991398.5  ,  434271.06 ,  765538.8  ,  273843.8  ,  257474.56 ,\n",
       "        365063.22 ,  242180.16 ,  467072.3  ,  581932.6  ,  266941.9  ,\n",
       "        272517.   ,  566565.9  ,  885046.25 ,  492403.84 ,  305863.66 ,\n",
       "        233900.9  ,  260227.94 ,  542007.25 ,  491414.62 ,  636449.94 ,\n",
       "        187684.81 ,  626383.4  ,  806643.25 ,  857961.9  ,  480253.03 ,\n",
       "        624318.2  ,  792825.8  ,  746537.9  ,  294051.9  ,  697596.1  ,\n",
       "        735800.9  ,  762303.4  ,  290839.3  ,  639325.4  ,  808747.4  ,\n",
       "        396545.84 ,  327436.62 ,  600966.25 , 1008189.4  ,  553579.4  ,\n",
       "        951600.9  ,  519937.53 ,  724273.3  ,  656586.4  ,  856572.4  ,\n",
       "        916929.1  ,  730227.1  ,  806996.9  ,  265341.53 ,  566845.44 ,\n",
       "        335983.38 ,  274058.66 ,  696862.8  ,   67669.125,  277414.75 ,\n",
       "        155915.5  ,  782095.7  ,  551197.4  ,  435455.7  ,  761524.7  ,\n",
       "        814649.06 ,  916860.8  ,  428912.4  ,  743228.94 ,  178050.53 ,\n",
       "        175601.5  ,  322350.06 ,  803120.56 ,  981730.6  ,  119706.56 ,\n",
       "        556438.7  ,  993369.94 ,  291934.2  ,  751283.2  ,  370162.   ,\n",
       "        433259.38 ,  443624.53 ,  364523.97 ,  836770.75 ,  305109.1  ,\n",
       "        498260.8  ,  305434.94 ,  625904.44 ,  474684.38 ,  481689.5  ,\n",
       "        228768.03 ,  565271.1  ,  684007.4  ,   15148.344,  660286.1  ,\n",
       "        312578.2  ,  274347.22 ,  771874.9  ,  377231.5  ,  276066.7  ,\n",
       "        167491.88 ,  301017.38 ,  295914.25 ,  246396.22 ,  331736.8  ,\n",
       "        271469.44 ,  605446.06 ,  492082.38 ,  864252.1  ,  385745.72 ,\n",
       "        469168.6  ,  761111.2  ,  596645.   ,  943305.1  ,  695506.9  ,\n",
       "         22398.812,  278320.34 ,  344296.5  ,  250203.53 ,  381543.7  ,\n",
       "       1002057.75 ,  773612.06 ,  449206.56 ,  560368.3  ], dtype=float32)"
      ]
     },
     "execution_count": 22,
     "metadata": {},
     "output_type": "execute_result"
    }
   ],
   "source": [
    "test_preds = model.predict(test).flatten()\n",
    "test_preds = (test_preds*std_Y)+mean_Y\n",
    "test_preds"
   ]
  },
  {
   "cell_type": "code",
   "execution_count": 31,
   "metadata": {},
   "outputs": [],
   "source": [
    "test_dataset = pd.read_csv(r\"C:\\Users\\KOTHA SAI\\Downloads\\test.csv\")\n",
    "ids = test_dataset.iloc[:,:1].values\n",
    "ids = np.squeeze(ids)"
   ]
  },
  {
   "cell_type": "code",
   "execution_count": 32,
   "metadata": {},
   "outputs": [],
   "source": [
    "test_preds_dataframe = pd.DataFrame({\"v.id\": ids, \"Test Preds\": test_preds})\n",
    "test_preds_dataframe.to_csv(\"test_preds.csv\")"
   ]
  },
  {
   "cell_type": "code",
   "execution_count": null,
   "metadata": {},
   "outputs": [],
   "source": []
  }
 ],
 "metadata": {
  "kernelspec": {
   "display_name": "Python 3",
   "language": "python",
   "name": "python3"
  },
  "language_info": {
   "codemirror_mode": {
    "name": "ipython",
    "version": 3
   },
   "file_extension": ".py",
   "mimetype": "text/x-python",
   "name": "python",
   "nbconvert_exporter": "python",
   "pygments_lexer": "ipython3",
   "version": "3.8.3"
  }
 },
 "nbformat": 4,
 "nbformat_minor": 4
}
